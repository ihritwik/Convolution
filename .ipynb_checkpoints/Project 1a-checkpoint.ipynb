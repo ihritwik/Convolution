{
 "cells": [
  {
   "cell_type": "code",
   "execution_count": 1,
   "id": "3c838d02",
   "metadata": {},
   "outputs": [],
   "source": [
    "import numpy as np\n",
    "import cv2 as cv\n",
    "import matplotlib.pyplot as plt\n"
   ]
  },
  {
   "cell_type": "code",
   "execution_count": 22,
   "id": "70f342e0",
   "metadata": {},
   "outputs": [],
   "source": [
    "img = cv.imread('lena.png')"
   ]
  },
  {
   "cell_type": "code",
   "execution_count": 23,
   "id": "6d4325c9",
   "metadata": {},
   "outputs": [],
   "source": [
    "img_gs = cv.cvtColor(img,cv.COLOR_BGR2GRAY)\n",
    "kernal = np.array([(1,1,1),(1,1,1),(1,1,1)])*(1/9)\n"
   ]
  },
  {
   "cell_type": "code",
   "execution_count": 24,
   "id": "d04ce334",
   "metadata": {},
   "outputs": [],
   "source": [
    "S1 = img_gs.shape\n",
    "S2 = kernal.shape\n",
    "r = S1[0] + (S2[0]-1)\n",
    "c = S1[1] + (S2[1]-1)"
   ]
  },
  {
   "cell_type": "code",
   "execution_count": 25,
   "id": "bff5b933",
   "metadata": {},
   "outputs": [
    {
     "name": "stdout",
     "output_type": "stream",
     "text": [
      "(225, 225)\n",
      "(3, 3)\n",
      "227\n",
      "227\n"
     ]
    }
   ],
   "source": [
    "print (S1)\n",
    "print (S2)\n",
    "print (r)\n",
    "print (c)"
   ]
  },
  {
   "cell_type": "code",
   "execution_count": 26,
   "id": "4190717b",
   "metadata": {},
   "outputs": [],
   "source": [
    "new_img = np.zeros((r,c))\n",
    "new_img1 = np.zeros((r,c))\n",
    "new_img2 = np.zeros((r,c))\n",
    "new_img3 = np.zeros((r,c))"
   ]
  },
  {
   "cell_type": "code",
   "execution_count": 27,
   "id": "cfc9a5e1",
   "metadata": {},
   "outputs": [],
   "source": [
    "new_img [1:-1, 1:-1] = img_gs\n",
    "new_img1 [1:-1, 1:-1] = img_gs\n",
    "new_img2 [1:-1, 1:-1] = img_gs\n",
    "new_img3 [1:-1, 1:-1] = img_gs"
   ]
  },
  {
   "cell_type": "code",
   "execution_count": 28,
   "id": "0e3ed641",
   "metadata": {},
   "outputs": [],
   "source": [
    "flat = new_img.flatten()\n",
    "Zpad = flat.astype(np.uint8)\n",
    "image = np.reshape(Zpad,new_img.shape)\n",
    "flat1 = new_img1.flatten()\n",
    "Zpad1 = flat1.astype(np.uint8)\n",
    "image1 = np.reshape(Zpad1,new_img1.shape)\n",
    "flat2 = new_img2.flatten()\n",
    "Zpad2 = flat2.astype(np.uint8)\n",
    "image2 = np.reshape(Zpad2,new_img2.shape)\n",
    "flat3 = new_img3.flatten()\n",
    "Zpad3 = flat3.astype(np.uint8)\n",
    "image3 = np.reshape(Zpad3,new_img3.shape)"
   ]
  },
  {
   "cell_type": "code",
   "execution_count": 29,
   "id": "f9b26f97",
   "metadata": {},
   "outputs": [],
   "source": [
    "cv.imshow(\"Zero padding\",image)\n",
    "cv.waitKey(0)\n",
    "cv.destroyAllWindows()"
   ]
  },
  {
   "cell_type": "code",
   "execution_count": 30,
   "id": "294e57ee",
   "metadata": {},
   "outputs": [],
   "source": [
    "cv.imshow(\"Zero padding image1\",image1)\n",
    "cv.waitKey(0)\n",
    "cv.destroyAllWindows()"
   ]
  },
  {
   "cell_type": "code",
   "execution_count": 31,
   "id": "13ea0097",
   "metadata": {},
   "outputs": [],
   "source": [
    "cv.imshow(\"Zero padding image2\",image2)\n",
    "cv.waitKey(0)\n",
    "cv.destroyAllWindows()"
   ]
  },
  {
   "cell_type": "code",
   "execution_count": 32,
   "id": "51602b01",
   "metadata": {},
   "outputs": [],
   "source": [
    "cv.imshow(\"Zero padding image3\",image3)\n",
    "cv.waitKey(0)\n",
    "cv.destroyAllWindows()"
   ]
  },
  {
   "cell_type": "code",
   "execution_count": 33,
   "id": "41aa665b",
   "metadata": {},
   "outputs": [],
   "source": [
    "#wrap around padding in image1\n",
    "\n",
    "for i in range (r-1):\n",
    "    image1[i+1, 0] = image1[i+1,c-2]\n",
    "    image1[i+1, c-1] = image1 [i+1, 1]\n",
    "for j in range (c):\n",
    "    image1[0, j] = image1[c-2,j]\n",
    "    image1[r-1, j] = image1 [1, j]\n"
   ]
  },
  {
   "cell_type": "code",
   "execution_count": 34,
   "id": "6b70a4ae",
   "metadata": {},
   "outputs": [],
   "source": [
    "#Reflect across edge in image2\n",
    "for i in range (r-1):\n",
    "    image2[i+1, 0] = image2[i+1,2]\n",
    "    image2[i+1, c-1] = image2[i+1, c-3]\n",
    "for j in range (c):\n",
    "    image2[0, j] = image2[2,j]\n",
    "    image2[r-1, j] = image2[r-3, j]\n"
   ]
  },
  {
   "cell_type": "code",
   "execution_count": 35,
   "id": "08eefaec",
   "metadata": {},
   "outputs": [],
   "source": [
    "#Copy edge in image3\n",
    "for i in range (r-1):\n",
    "    image3[i+1, 0] = image3[i+1,1]\n",
    "    image3[i+1, c-1] = image3[i+1, c-2]\n",
    "for j in range (c):\n",
    "    image3[0, j] = image3[1,j]\n",
    "    image3[r-1, j] = image3[r-2, j]\n"
   ]
  },
  {
   "cell_type": "code",
   "execution_count": 47,
   "id": "17233bee",
   "metadata": {},
   "outputs": [
    {
     "name": "stdout",
     "output_type": "stream",
     "text": [
      "(227, 227)\n"
     ]
    }
   ],
   "source": [
    "S=image2.shape\n",
    "print(S)"
   ]
  },
  {
   "cell_type": "code",
   "execution_count": 37,
   "id": "712211cd",
   "metadata": {},
   "outputs": [],
   "source": [
    "#Display wrap around padded image - image1\n",
    "cv.imshow(\"wrap around image\",image1)\n",
    "cv.waitKey(0)\n",
    "cv.destroyAllWindows()"
   ]
  },
  {
   "cell_type": "code",
   "execution_count": 51,
   "id": "24141324",
   "metadata": {},
   "outputs": [],
   "source": [
    "#Display reflect across padded image - image2\n",
    "cv.imshow(\"reflect across padded image\",image2)\n",
    "cv.waitKey(0)\n",
    "cv.destroyAllWindows()"
   ]
  },
  {
   "cell_type": "code",
   "execution_count": 39,
   "id": "430b2366",
   "metadata": {},
   "outputs": [],
   "source": [
    "#Display copy edge padded image - image3\n",
    "cv.imshow(\"reflect across padded image\",image3)\n",
    "cv.waitKey(0)\n",
    "cv.destroyAllWindows()"
   ]
  },
  {
   "cell_type": "code",
   "execution_count": 20,
   "id": "b83d66be",
   "metadata": {},
   "outputs": [
    {
     "name": "stdout",
     "output_type": "stream",
     "text": [
      "[[  0.   0.   0. ...   0.   0.   0.]\n",
      " [  0. 161. 161. ... 169. 145.   0.]\n",
      " [  0. 160. 160. ... 186. 150.   0.]\n",
      " ...\n",
      " [  0.  56.  48. ...  95.  95.   0.]\n",
      " [  0.  40.  60. ... 103. 106.   0.]\n",
      " [  0.   0.   0. ...   0.   0.   0.]]\n"
     ]
    }
   ],
   "source": [
    "print(new_img)"
   ]
  },
  {
   "cell_type": "code",
   "execution_count": 21,
   "id": "ccdca0ef",
   "metadata": {},
   "outputs": [
    {
     "name": "stdout",
     "output_type": "stream",
     "text": [
      "[[  0   0   0 ...   0   0   0]\n",
      " [  0 161 161 ... 169 145   0]\n",
      " [  0 160 160 ... 186 150   0]\n",
      " ...\n",
      " [  0  56  48 ...  95  95   0]\n",
      " [  0  40  60 ... 103 106   0]\n",
      " [  0   0   0 ...   0   0   0]]\n"
     ]
    }
   ],
   "source": [
    "print(image)"
   ]
  },
  {
   "cell_type": "code",
   "execution_count": 22,
   "id": "15b9110c",
   "metadata": {},
   "outputs": [
    {
     "name": "stdout",
     "output_type": "stream",
     "text": [
      "[[106  40  60 ... 103 106  40]\n",
      " [145 161 161 ... 169 145 161]\n",
      " [150 160 160 ... 186 150 160]\n",
      " ...\n",
      " [ 95  56  48 ...  95  95  56]\n",
      " [106  40  60 ... 103 106  40]\n",
      " [145 161 161 ... 169 145 161]]\n"
     ]
    }
   ],
   "source": [
    "print(image1)"
   ]
  },
  {
   "cell_type": "code",
   "execution_count": 23,
   "id": "51b87317",
   "metadata": {},
   "outputs": [
    {
     "name": "stdout",
     "output_type": "stream",
     "text": [
      "[[160 160 160 ... 186 150 186]\n",
      " [161 161 161 ... 169 145 169]\n",
      " [160 160 160 ... 186 150 186]\n",
      " ...\n",
      " [ 48  56  48 ...  95  95  95]\n",
      " [ 60  40  60 ... 103 106 103]\n",
      " [ 48  56  48 ...  95  95  95]]\n"
     ]
    }
   ],
   "source": [
    "print(image2)"
   ]
  },
  {
   "cell_type": "code",
   "execution_count": 24,
   "id": "8ae3c5b7",
   "metadata": {},
   "outputs": [
    {
     "name": "stdout",
     "output_type": "stream",
     "text": [
      "[[161 161 161 ... 169 145 145]\n",
      " [161 161 161 ... 169 145 145]\n",
      " [160 160 160 ... 186 150 150]\n",
      " ...\n",
      " [ 56  56  48 ...  95  95  95]\n",
      " [ 40  40  60 ... 103 106 106]\n",
      " [ 40  40  60 ... 103 106 106]]\n"
     ]
    }
   ],
   "source": [
    "print(image3)"
   ]
  },
  {
   "cell_type": "code",
   "execution_count": 40,
   "id": "48552cde",
   "metadata": {},
   "outputs": [],
   "source": [
    "convolve_img = np.zeros((S[0],S[1]))\n",
    "cv.imshow(\"Convolved image\",convolve_img)\n",
    "cv.waitKey(0)\n",
    "cv.destroyAllWindows()"
   ]
  },
  {
   "cell_type": "code",
   "execution_count": 41,
   "id": "82aa17d9",
   "metadata": {},
   "outputs": [],
   "source": [
    "for i in range(S[0]-2):\n",
    "    for j in range(S[1]-2):\n",
    "        for p in range (3):\n",
    "            convolve_img[i+1,j+1] = convolve_img[i+1,j+1] + ((kernal[p,0]*image2[i+p,j])\n",
    "                                                           + (kernal[p,1]*image2[i+p,j+1]) \n",
    "                                                            + (kernal[p,2]*image2[i+p,j+2]));"
   ]
  },
  {
   "cell_type": "code",
   "execution_count": 42,
   "id": "8ae20f65",
   "metadata": {},
   "outputs": [],
   "source": [
    "flat_ci1 = convolve_img.flatten()\n",
    "Zpad_ci1 = flat_ci1.astype(np.uint8)\n",
    "image_zpad = np.reshape(Zpad_ci1,image2.shape)\n",
    "cv.imshow(\"Convolved image\",image_zpad)\n",
    "cv.waitKey(0)\n",
    "cv.destroyAllWindows()\n",
    "\n"
   ]
  },
  {
   "cell_type": "code",
   "execution_count": 43,
   "id": "076594cb",
   "metadata": {},
   "outputs": [],
   "source": [
    "# Now extract the original size image after cropping the pad\n",
    "Final_cropped_zpad_c1 = image_zpad[1:-1, 1:-1]\n",
    "flat_cropped_zpad_flatten = Final_cropped_zpad_c1.flatten()\n",
    "final_cropped_img_zpad = flat_cropped_zpad_flatten.astype(np.uint8)\n",
    "Final_zeropad = np.reshape(final_cropped_img_zpad,img_gs.shape)\n",
    "#display cropped and final image\n",
    "cv.imshow(\"Convolved and cropped image\",Final_zeropad)\n",
    "cv.waitKey(0)\n",
    "cv.destroyAllWindows()"
   ]
  },
  {
   "cell_type": "code",
   "execution_count": 44,
   "id": "0493bad6",
   "metadata": {},
   "outputs": [],
   "source": [
    "#Derivative Kernal\n",
    "kernal1 = [(-1, 1)]\n",
    "kernal2 = [(-1),(1)]\n",
    "kernal2 = [(1),(-1)]\n",
    "\n",
    "#Prewitt Kernal \n",
    "kernal_prewitt_x = [(-1,0,1),(-1,0,1),(-1,0,1)]\n",
    "kernal_prewitt_y = [(1,1,1),(0,0,0),(-1,-1,-1)]\n",
    "\n",
    "#Sobel Kernal\n",
    "kernal_sobel_x = [(-1,0,1),(-2,0,2),(-1,0,1)]\n",
    "kernal_sobel_y = [(1,2,1),(0,0,0),(-1,-2,-1)]\n",
    "\n",
    "#Roberts Kernal\n",
    "kernal_roberts_x = [(0,1),(-1,0)]\n",
    "kernal_roberts_y = [(1,0),(0,-1)]"
   ]
  },
  {
   "cell_type": "code",
   "execution_count": 45,
   "id": "156b3009",
   "metadata": {},
   "outputs": [],
   "source": [
    "convolve_img1 = np.zeros((S[0],S[1]))\n",
    "cv.imshow(\"Convolved image 1\",convolve_img1)\n",
    "cv.waitKey(0)\n",
    "cv.destroyAllWindows()\n",
    "convolve_img2 = np.zeros((S[0],S[1]))\n",
    "cv.imshow(\"Convolved image 2\",convolve_img2)\n",
    "cv.waitKey(0)\n",
    "cv.destroyAllWindows()\n",
    "convolve_img3 = np.zeros((S[0],S[1]))\n",
    "cv.imshow(\"Convolved image 3\",convolve_img3)\n",
    "cv.waitKey(0)\n",
    "cv.destroyAllWindows()"
   ]
  },
  {
   "cell_type": "code",
   "execution_count": 35,
   "id": "c98f6db2",
   "metadata": {},
   "outputs": [],
   "source": [
    "#Convolution\n",
    "for i in range(S[0]-2):\n",
    "    for j in range(S[1]-2):\n",
    "        for p in range (3):\n",
    "            convolve_img1[i+1][j+1] = convolve_img1[i+1][j+1] + ((kernal_sobel_x[p][0]*image2[i+p][j])\n",
    "                                                           + (kernal_sobel_x[p][1]*image2[i+p][j+1]) \n",
    "                                                            + (kernal_sobel_x[p][2]*image2[i+p][j+2]));\n",
    "            convolve_img2[i+1][j+1] = convolve_img2[i+1][j+1] + ((kernal_sobel_y[p][0]*image2[i+p][j])\n",
    "                                                           + (kernal_prewitt_y[p][1]*image2[i+p][j+1]) \n",
    "                                                            + (kernal_prewitt_y[p][2]*image2[i+p][j+2]));\n",
    "            "
   ]
  },
  {
   "cell_type": "code",
   "execution_count": 46,
   "id": "dff9af21",
   "metadata": {},
   "outputs": [],
   "source": [
    "import math"
   ]
  },
  {
   "cell_type": "code",
   "execution_count": 41,
   "id": "889a5bc7",
   "metadata": {},
   "outputs": [],
   "source": [
    "for k in range(S[0]):\n",
    "    for l in range (S[1]):\n",
    "        convolve_img3[k][l] = math.sqrt(pow((convolve_img1[k][l]),2) + pow((convolve_img2[k][l]),2))"
   ]
  },
  {
   "cell_type": "code",
   "execution_count": 42,
   "id": "834293bb",
   "metadata": {},
   "outputs": [],
   "source": [
    "flat_ci2 = convolve_img3.flatten()\n",
    "Zpad_ci2 = flat_ci2.astype(np.uint8)\n",
    "image_zpad2 = np.reshape(Zpad_ci2,image2.shape)\n",
    "cv.imshow(\"Convolved image\",image_zpad2)\n",
    "cv.waitKey(0)\n",
    "cv.destroyAllWindows()\n"
   ]
  },
  {
   "cell_type": "code",
   "execution_count": 54,
   "id": "1d57c0ca",
   "metadata": {},
   "outputs": [],
   "source": [
    "size = 225\n",
    "r = size + 2\n",
    "c = size + 2\n",
    "\n",
    "convolve_img1 = np.zeros((r,c))\n",
    "convolve_img2 = np.zeros((r,c))\n",
    "convolve_img = np.zeros((r,c))\n",
    "#Derivative Kernal\n",
    "kernal_x = [(-1), (1)]\n",
    "kernal_y = [(-1),(1)]\n",
    "#kernal_y2 = [(1),(-1)]\n",
    "  \n",
    "for i in range(r):\n",
    "    for j in range (c-1):\n",
    "        convolve_img1[i][j] = convolve_img1[i][j] + ((kernal_x[0]*image2[i][j])\n",
    "                                                           + (kernal_x[1]*image2[i][j+1]))\n",
    "for i in range(r-1):\n",
    "    for j in range (c):\n",
    "        convolve_img2[i][j] += ((kernal_y[0]*image2[i][j])\n",
    "                                                           + (kernal_y[1]*image2[i+1][j]))                                                  \n",
    "for k in range(r):\n",
    "    for l in range (c):\n",
    "        convolve_img[k][l] = (math.sqrt(pow((convolve_img1[k][l]),2) + pow((convolve_img2[k][l]),2)))      \n",
    "flat_ci3 = convolve_img.flatten()\n",
    "Zpad_ci3 = flat_ci3.astype(np.uint8)\n",
    "image_zpad3 = np.reshape(Zpad_ci3,image2.shape)\n",
    "cv.imshow(\"Convolved image\",image_zpad3)\n",
    "cv.waitKey(0)\n",
    "cv.destroyAllWindows()\n",
    "        "
   ]
  },
  {
   "cell_type": "code",
   "execution_count": null,
   "id": "cd119cdd",
   "metadata": {},
   "outputs": [],
   "source": []
  }
 ],
 "metadata": {
  "kernelspec": {
   "display_name": "Python 3",
   "language": "python",
   "name": "python3"
  },
  "language_info": {
   "codemirror_mode": {
    "name": "ipython",
    "version": 3
   },
   "file_extension": ".py",
   "mimetype": "text/x-python",
   "name": "python",
   "nbconvert_exporter": "python",
   "pygments_lexer": "ipython3",
   "version": "3.8.8"
  }
 },
 "nbformat": 4,
 "nbformat_minor": 5
}
